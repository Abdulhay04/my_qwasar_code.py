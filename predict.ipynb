{
  "nbformat": 4,
  "nbformat_minor": 0,
  "metadata": {
    "colab": {
      "provenance": [],
      "authorship_tag": "ABX9TyNSFF4jAvfq63djXhs0zgcH",
      "include_colab_link": true
    },
    "kernelspec": {
      "name": "python3",
      "display_name": "Python 3"
    },
    "language_info": {
      "name": "python"
    }
  },
  "cells": [
    {
      "cell_type": "markdown",
      "metadata": {
        "id": "view-in-github",
        "colab_type": "text"
      },
      "source": [
        "<a href=\"https://colab.research.google.com/github/Abdulhay04/my_qwasar_code.py/blob/main/predict.ipynb\" target=\"_parent\"><img src=\"https://colab.research.google.com/assets/colab-badge.svg\" alt=\"Open In Colab\"/></a>"
      ]
    },
    {
      "cell_type": "code",
      "execution_count": null,
      "metadata": {
        "id": "zfDxz99LinNz"
      },
      "outputs": [],
      "source": [
        "from sklearn.metrics import mean_absolute_error \n",
        "import numpy as np"
      ]
    },
    {
      "cell_type": "code",
      "source": [
        "\"\"\"predict -> Mean absolute error\"\"\"\n",
        "\n",
        "a = np.array([2, 4, 4, 5])\n",
        "b = np.array([1, 2, 3, 4])\n",
        "\n",
        "mae = mean_absolute_error(a, b)\n",
        "print(\"computer predict: \", mae)\n",
        "mp = 1/len(a)*sum((abs(a - b)))\n",
        "print(\"my predict: \", mp)"
      ],
      "metadata": {
        "colab": {
          "base_uri": "https://localhost:8080/"
        },
        "id": "guc_eWg7i4Pg",
        "outputId": "247313ec-6de5-417d-8e8a-d00460a2e106"
      },
      "execution_count": null,
      "outputs": [
        {
          "output_type": "stream",
          "name": "stdout",
          "text": [
            "computer predict:  1.25\n",
            "my predict:  1.25\n"
          ]
        }
      ]
    },
    {
      "cell_type": "code",
      "source": [
        "from sklearn.metrics import r2_score\n"
      ],
      "metadata": {
        "id": "4bhbXIYskKbx"
      },
      "execution_count": null,
      "outputs": []
    },
    {
      "cell_type": "code",
      "source": [
        "\"\"\"predict -> R2_score\"\"\"\n",
        "\n",
        "com_r2 = r2_score(a,b)\n",
        "\n",
        "x = sum((b-a)**2)\n",
        "y = sum((a-np.mean(a))**2)\n",
        "my_r2 = 1-x/y\n",
        "\n",
        "print(\"computer predict: \", com_r2)\n",
        "print(\"my predict: \", my_r2)\n"
      ],
      "metadata": {
        "colab": {
          "base_uri": "https://localhost:8080/"
        },
        "id": "W9CZCjdHl3mL",
        "outputId": "5a237942-5b7e-4e8f-cad3-d40fa4ccd08e"
      },
      "execution_count": null,
      "outputs": [
        {
          "output_type": "stream",
          "name": "stdout",
          "text": [
            "computer predict:  -0.4736842105263157\n",
            "my predict:  -0.4736842105263157\n"
          ]
        }
      ]
    },
    {
      "cell_type": "code",
      "source": [],
      "metadata": {
        "colab": {
          "base_uri": "https://localhost:8080/"
        },
        "id": "KACwNedol_Gk",
        "outputId": "8ba8d455-b4da-401e-fd55-9e8d7bd78e87"
      },
      "execution_count": null,
      "outputs": [
        {
          "output_type": "execute_result",
          "data": {
            "text/plain": [
              "0.625"
            ]
          },
          "metadata": {},
          "execution_count": 47
        }
      ]
    },
    {
      "cell_type": "code",
      "source": [
        " "
      ],
      "metadata": {
        "colab": {
          "base_uri": "https://localhost:8080/"
        },
        "id": "AMRy5atsmmKZ",
        "outputId": "483d2dcf-2b9d-4efe-ab5b-1ac0731e6894"
      },
      "execution_count": null,
      "outputs": [
        {
          "output_type": "execute_result",
          "data": {
            "text/plain": [
              "1"
            ]
          },
          "metadata": {},
          "execution_count": 41
        }
      ]
    },
    {
      "cell_type": "code",
      "source": [],
      "metadata": {
        "id": "WXJoU4Hqtzxw"
      },
      "execution_count": null,
      "outputs": []
    }
  ]
}